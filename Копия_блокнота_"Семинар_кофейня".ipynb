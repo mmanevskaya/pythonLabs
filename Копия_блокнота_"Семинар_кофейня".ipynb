{
  "nbformat": 4,
  "nbformat_minor": 0,
  "metadata": {
    "colab": {
      "provenance": [],
      "include_colab_link": true
    },
    "kernelspec": {
      "name": "python3",
      "display_name": "Python 3"
    },
    "language_info": {
      "name": "python"
    }
  },
  "cells": [
    {
      "cell_type": "markdown",
      "metadata": {
        "id": "view-in-github",
        "colab_type": "text"
      },
      "source": [
        "<a href=\"https://colab.research.google.com/github/mmanevskaya/pythonLabs/blob/main/%D0%9A%D0%BE%D0%BF%D0%B8%D1%8F_%D0%B1%D0%BB%D0%BE%D0%BA%D0%BD%D0%BE%D1%82%D0%B0_%22%D0%A1%D0%B5%D0%BC%D0%B8%D0%BD%D0%B0%D1%80_%D0%BA%D0%BE%D1%84%D0%B5%D0%B9%D0%BD%D1%8F%22.ipynb\" target=\"_parent\"><img src=\"https://colab.research.google.com/assets/colab-badge.svg\" alt=\"Open In Colab\"/></a>"
      ]
    },
    {
      "cell_type": "code",
      "execution_count": null,
      "metadata": {
        "id": "gFjsfESEJsB6",
        "colab": {
          "base_uri": "https://localhost:8080/"
        },
        "outputId": "8f025dd9-6c84-40b4-def7-8e5e9cc6250b"
      },
      "outputs": [
        {
          "output_type": "stream",
          "name": "stdout",
          "text": [
            "Looking in indexes: https://pypi.org/simple, https://us-python.pkg.dev/colab-wheels/public/simple/\n",
            "Requirement already satisfied: peewee in /usr/local/lib/python3.9/dist-packages (3.16.0)\n"
          ]
        },
        {
          "output_type": "execute_result",
          "data": {
            "text/plain": [
              "1"
            ]
          },
          "metadata": {},
          "execution_count": 9
        }
      ],
      "source": [
        "!pip install peewee\n",
        "from peewee import *\n",
        "\n",
        "db = SqliteDatabase('my.db')\n",
        "\n",
        "class Zooshop(Model):\n",
        "    name = CharField()\n",
        "    address = CharField()\n",
        "    rating = IntegerField()\n",
        "    income = IntegerField()\n",
        "\n",
        "    class Meta:\n",
        "        database = db\n",
        "\n",
        "class Employee(Model):\n",
        "    name = CharField()\n",
        "    task = CharField()\n",
        "    salary = IntegerField()\n",
        "    place = ForeignKeyField(Zooshop)\n",
        "    class Meta:\n",
        "        database = db\n",
        "\n",
        "class Pet(Model):\n",
        "    name = CharField()\n",
        "    age = IntegerField()\n",
        "    species = CharField()\n",
        "    price = IntegerField()\n",
        "\n",
        "    class Meta:\n",
        "        database = db\n",
        "  \n",
        "class Assortiment(Model):\n",
        "    place = ForeignKeyField(Zooshop)\n",
        "    pet = ForeignKeyField(Pet)\n",
        "    \n",
        "    class Meta:\n",
        "        database = db\n",
        "\n",
        "db.connect()\n",
        "\n",
        "db.drop_tables([Pet,Zooshop,Employee,Assortiment])\n",
        "db.create_tables([Pet,Zooshop,Employee,Assortiment])\n",
        "\n",
        "zooshop = Zooshop(name='Зоомагазин', address='Kurskaya', rating=4, income=25000)\n",
        "zooshopmega = Zooshop(name='ЗоомагазинМЕГА', address='Butovo', rating=1,income=15000)\n",
        "zoopark = Zooshop(name='ЗооПарк', address='Chertanovo', rating=5,income=150000)\n",
        "\n",
        "zooshop.save()\n",
        "zooshopmega.save()\n",
        "zoopark.save()\n",
        "\n",
        "fluffy = Pet(name='fluffy', age=1, species='hamster',price=180)\n",
        "buzz = Pet(name='Buzz', age=2, species='Hummingbird', price = 200)\n",
        "\n",
        "sparky = Pet(name='Sparky', age=1, species='rat', price = 50)\n",
        "zippy = Pet(name='Zippy', age=1, species='rat', price = 50)\n",
        "\n",
        "speedy = Pet(name='Speedy', age=1, species='hamster', price = 150)\n",
        "\n",
        "\n",
        "fluffy.save()\n",
        "speedy.save()\n",
        "sparky.save()\n",
        "zippy.save()\n",
        "buzz.save()\n",
        "\n",
        "fluffy_zooshop = Assortiment(place=zooshop,pet=fluffy)\n",
        "buzz_zooshop = Assortiment(place=zooshop,pet=buzz)\n",
        "fluffy_zooshopmega = Assortiment(place=zooshopmega,pet=fluffy)\n",
        "sparky_zooshopmega = Assortiment(place=zooshopmega,pet=sparky)\n",
        "zippy_zooshop = Assortiment(place=zooshop,pet=zippy)\n",
        "speedy_zoopark =  Assortiment(place=zoopark,pet=speedy)\n",
        "fluffy_zooshop.save()\n",
        "buzz_zooshop.save()\n",
        "fluffy_zooshopmega.save()\n",
        "sparky_zooshopmega.save()\n",
        "zippy_zooshop.save()\n",
        "speedy_zoopark.save()"
      ]
    },
    {
      "cell_type": "code",
      "source": [],
      "metadata": {
        "id": "V94mD3t1IZb5"
      },
      "execution_count": null,
      "outputs": []
    },
    {
      "cell_type": "markdown",
      "source": [
        "# Запрос SELECT\n",
        "*   список кофеен\n",
        "*   какими продуктами торгуют\n",
        "\n"
      ],
      "metadata": {
        "id": "dReSNybXHosn"
      }
    },
    {
      "cell_type": "code",
      "source": [
        "for c in Zooshop.select():\n",
        "  print(c.name, \" Адрес:\",c.address)"
      ],
      "metadata": {
        "id": "U9zB20oxHoOK",
        "outputId": "fa60f572-a10f-4452-d8c5-48f136704051",
        "colab": {
          "base_uri": "https://localhost:8080/"
        }
      },
      "execution_count": null,
      "outputs": [
        {
          "output_type": "stream",
          "name": "stdout",
          "text": [
            "Зоомагазин  Адрес: Kurskaya\n",
            "ЗоомагазинМЕГА  Адрес: Butovo\n",
            "ЗооПарк  Адрес: Chertanovo\n"
          ]
        }
      ]
    },
    {
      "cell_type": "code",
      "source": [
        "for p in Pet.select():\n",
        "  print(p.name, p.price)"
      ],
      "metadata": {
        "colab": {
          "base_uri": "https://localhost:8080/"
        },
        "id": "rKXQZiYBhqMp",
        "outputId": "40bd20d3-655a-4206-8953-15596816bc9b"
      },
      "execution_count": null,
      "outputs": [
        {
          "output_type": "stream",
          "name": "stdout",
          "text": [
            "fluffy 180\n",
            "Speedy 150\n",
            "Sparky 50\n",
            "Zippy 50\n",
            "Buzz 200\n"
          ]
        }
      ]
    },
    {
      "cell_type": "code",
      "source": [
        "for a in Assortiment.select().where(Assortiment.place==zoopark):\n",
        "  print(a.pet.name, a.pet.price)"
      ],
      "metadata": {
        "colab": {
          "base_uri": "https://localhost:8080/"
        },
        "id": "HOSpNebeh8fV",
        "outputId": "c2fdc4b4-8568-4f42-fb96-0755e6b52206"
      },
      "execution_count": null,
      "outputs": [
        {
          "output_type": "stream",
          "name": "stdout",
          "text": [
            "Speedy 150\n"
          ]
        }
      ]
    }
  ]
}